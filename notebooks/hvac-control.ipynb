{
 "cells": [
  {
   "cell_type": "markdown",
   "id": "57c4c0da",
   "metadata": {},
   "source": [
    "# HVAC Energy Efficiency\n",
    "\n",
    "Building operations consume approximately 40% of global energy, with Heating, Ventilation, and Air Conditioning (HVAC) systems responsible for up to 50% of this consumption ```[1] [2]```. As HVAC energy demands are expected to rise, optimizing system efficiency is crucial for reducing future energy use and mitigating climate change ```[3]```.\n",
    "\n",
    "We explore methods in this notebook to address energy efficiency challenges in building operations:\n",
    "1. HVAC-Decision Pretrained Transformer (DPT) for HVAC Control ```[4]```.\n",
    "2. Mitigating an adoption barrier of reinforcement learning-based control strategies in buildings ```[5]```."
   ]
  },
  {
   "cell_type": "markdown",
   "id": "f314f413",
   "metadata": {},
   "source": [
    "#### **1. HVAC-Decision Pretrained Transformer (DPT) for HVAC Control**"
   ]
  },
  {
   "cell_type": "markdown",
   "id": "e2cba2c2",
   "metadata": {},
   "source": [
    "#### **References**\n",
    "\n",
    "```\n",
    "[1] European Commission. In focus: Energy efficiency in buildings, 2023.\n",
    "[2] Luis Pérez-Lombard, José Ortiz, and Christine Pout. A review on buildings energy consumption information. Energy and buildings, 40(3):394–398, 2008.\n",
    "[3] Mat Santamouris. Cooling the buildings–past, present and future. Energy and Buildings, 128:617–638, 2016.\n",
    "[4] Anaïs Berkes, \"HVAC-DPT: A Decision Pretrained Transformer for HVAC Control\" arXiv:2411.19746v1 [cs.LG] 29 Nov 2024\n",
    "[5] Aakash Krishna G.S., Tianyu Zhang, Omid Ardakanian, Matthew E. Taylor, Mitigating an adoption barrier of reinforcement learning-based control strategies in buildings, Energy and Buildings, Volume 285, 2023, 112878, ISSN 0378-7788, https://doi.org/10.1016/j.enbuild.2023.112878.\n",
    "```"
   ]
  },
  {
   "cell_type": "markdown",
   "id": "4f07833f",
   "metadata": {},
   "source": []
  }
 ],
 "metadata": {
  "language_info": {
   "name": "python"
  }
 },
 "nbformat": 4,
 "nbformat_minor": 5
}
